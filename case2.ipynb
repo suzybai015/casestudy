{
 "cells": [
  {
   "cell_type": "code",
   "execution_count": 9,
   "metadata": {},
   "outputs": [],
   "source": [
    "import pandas as pd\n",
    "import numpy as np\n",
    "import matplotlib.pyplot as plt\n",
    "import seaborn as sns\n",
    "import random\n",
    "%matplotlib inline\n",
    "\n",
    "#We are setting the seed to assure you get the same answers on quizzes as we set up\n",
    "random.seed(42)\n",
    "\n",
    "#import file\n",
    "file_name = '/Users/suzybai/Downloads/casestudy.csv'\n",
    "df = pd.read_csv(file_name,low_memory=False)\n"
   ]
  },
  {
   "cell_type": "code",
   "execution_count": 8,
   "metadata": {},
   "outputs": [
    {
     "data": {
      "text/html": [
       "<div>\n",
       "<style scoped>\n",
       "    .dataframe tbody tr th:only-of-type {\n",
       "        vertical-align: middle;\n",
       "    }\n",
       "\n",
       "    .dataframe tbody tr th {\n",
       "        vertical-align: top;\n",
       "    }\n",
       "\n",
       "    .dataframe thead th {\n",
       "        text-align: right;\n",
       "    }\n",
       "</style>\n",
       "<table border=\"1\" class=\"dataframe\">\n",
       "  <thead>\n",
       "    <tr style=\"text-align: right;\">\n",
       "      <th></th>\n",
       "      <th>Unnamed: 0</th>\n",
       "      <th>customer_email</th>\n",
       "      <th>net_revenue</th>\n",
       "      <th>year</th>\n",
       "    </tr>\n",
       "  </thead>\n",
       "  <tbody>\n",
       "    <tr>\n",
       "      <th>0</th>\n",
       "      <td>0</td>\n",
       "      <td>nhknapwsbx@gmail.com</td>\n",
       "      <td>249.92</td>\n",
       "      <td>2015</td>\n",
       "    </tr>\n",
       "    <tr>\n",
       "      <th>1</th>\n",
       "      <td>1</td>\n",
       "      <td>joiuzbvcpn@gmail.com</td>\n",
       "      <td>87.61</td>\n",
       "      <td>2015</td>\n",
       "    </tr>\n",
       "    <tr>\n",
       "      <th>2</th>\n",
       "      <td>2</td>\n",
       "      <td>ukkjctepxt@gmail.com</td>\n",
       "      <td>168.38</td>\n",
       "      <td>2015</td>\n",
       "    </tr>\n",
       "    <tr>\n",
       "      <th>3</th>\n",
       "      <td>3</td>\n",
       "      <td>gykatilzrt@gmail.com</td>\n",
       "      <td>62.40</td>\n",
       "      <td>2015</td>\n",
       "    </tr>\n",
       "    <tr>\n",
       "      <th>4</th>\n",
       "      <td>4</td>\n",
       "      <td>mmsgsrtxah@gmail.com</td>\n",
       "      <td>43.08</td>\n",
       "      <td>2015</td>\n",
       "    </tr>\n",
       "    <tr>\n",
       "      <th>...</th>\n",
       "      <td>...</td>\n",
       "      <td>...</td>\n",
       "      <td>...</td>\n",
       "      <td>...</td>\n",
       "    </tr>\n",
       "    <tr>\n",
       "      <th>685922</th>\n",
       "      <td>685922</td>\n",
       "      <td>qzqttwiftu@gmail.com</td>\n",
       "      <td>184.58</td>\n",
       "      <td>2017</td>\n",
       "    </tr>\n",
       "    <tr>\n",
       "      <th>685923</th>\n",
       "      <td>685923</td>\n",
       "      <td>pjodiifjop@gmail.com</td>\n",
       "      <td>133.03</td>\n",
       "      <td>2017</td>\n",
       "    </tr>\n",
       "    <tr>\n",
       "      <th>685924</th>\n",
       "      <td>685924</td>\n",
       "      <td>appaplmgko@gmail.com</td>\n",
       "      <td>200.98</td>\n",
       "      <td>2017</td>\n",
       "    </tr>\n",
       "    <tr>\n",
       "      <th>685925</th>\n",
       "      <td>685925</td>\n",
       "      <td>wvkpmwsgck@gmail.com</td>\n",
       "      <td>235.35</td>\n",
       "      <td>2017</td>\n",
       "    </tr>\n",
       "    <tr>\n",
       "      <th>685926</th>\n",
       "      <td>685926</td>\n",
       "      <td>aregboumbw@gmail.com</td>\n",
       "      <td>208.43</td>\n",
       "      <td>2017</td>\n",
       "    </tr>\n",
       "  </tbody>\n",
       "</table>\n",
       "<p>685927 rows × 4 columns</p>\n",
       "</div>"
      ],
      "text/plain": [
       "        Unnamed: 0         customer_email  net_revenue  year\n",
       "0                0   nhknapwsbx@gmail.com       249.92  2015\n",
       "1                1   joiuzbvcpn@gmail.com        87.61  2015\n",
       "2                2   ukkjctepxt@gmail.com       168.38  2015\n",
       "3                3   gykatilzrt@gmail.com        62.40  2015\n",
       "4                4   mmsgsrtxah@gmail.com        43.08  2015\n",
       "...            ...                    ...          ...   ...\n",
       "685922      685922   qzqttwiftu@gmail.com       184.58  2017\n",
       "685923      685923   pjodiifjop@gmail.com       133.03  2017\n",
       "685924      685924   appaplmgko@gmail.com       200.98  2017\n",
       "685925      685925   wvkpmwsgck@gmail.com       235.35  2017\n",
       "685926      685926   aregboumbw@gmail.com       208.43  2017\n",
       "\n",
       "[685927 rows x 4 columns]"
      ]
     },
     "execution_count": 8,
     "metadata": {},
     "output_type": "execute_result"
    }
   ],
   "source": [
    "df"
   ]
  },
  {
   "cell_type": "code",
   "execution_count": 10,
   "metadata": {},
   "outputs": [
    {
     "data": {
      "text/plain": [
       "31417495.030000016"
      ]
     },
     "execution_count": 10,
     "metadata": {},
     "output_type": "execute_result"
    }
   ],
   "source": [
    "#total revenue for current year\n",
    "df.loc[df['year'] == 2017, 'net_revenue'].sum()"
   ]
  },
  {
   "cell_type": "code",
   "execution_count": 24,
   "metadata": {},
   "outputs": [
    {
     "data": {
      "text/plain": [
       "47021726.05"
      ]
     },
     "execution_count": 24,
     "metadata": {},
     "output_type": "execute_result"
    }
   ],
   "source": [
    "#new customer revenue\n",
    "#2017 customers not show in 2016 coumers\n",
    "\n",
    "##df of 2016 and 2017\n",
    "df1617 = df[(df['year'] == 2017) | (df['year'] == 2016)]\n",
    "df1617 #454633 rows × 4 columns\n",
    "\n",
    "#repeating/new customers counts\n",
    "counts = df1617['customer_email'].value_counts()\n",
    "\n",
    "#only keep customers who exist once\n",
    "df1617_once = df1617[df1617['customer_email'].isin(counts.index[counts == 1])]\n",
    "df1617_once #412715 rows × 4 columns\n",
    "\n",
    "#total revenue of new customers in 2017 \n",
    "newc_rev_17 = df1617_once.loc[df1617_once['year'] == 2017, 'net_revenue'].sum()\n",
    "\n",
    "##df of 2016 and 2015\n",
    "df1615 = df[(df['year'] == 2015) | (df['year'] == 2016)]\n",
    "df1615 #435940 rows × 4 columns\n",
    "\n",
    "#repeating/new customers counts\n",
    "counts = df1615['customer_email'].value_counts()\n",
    "\n",
    "#only keep customers who exist once\n",
    "df1615_once = df1615[df1615['customer_email'].isin(counts.index[counts == 1])]\n",
    "df1615_once #316772 rows × 4 columns\n",
    "\n",
    "#total revenue of new customers in 2016\n",
    "newc_rev_16 = df1615_once.loc[df1615_once['year'] == 2016, 'net_revenue'].sum()\n",
    "\n",
    "newc_rev_17 + newc_rev_16"
   ]
  },
  {
   "cell_type": "code",
   "execution_count": 12,
   "metadata": {},
   "outputs": [
    {
     "data": {
      "text/plain": [
       "-8140.069999999949"
      ]
     },
     "execution_count": 12,
     "metadata": {},
     "output_type": "execute_result"
    }
   ],
   "source": [
    "#Existing customer growth\n",
    "#customers who exsit 3 times: Rev17 - Rev16\n",
    "\n",
    "#customer counts\n",
    "counts = df['customer_email'].value_counts()\n",
    "\n",
    "#only keep customers who exist 3 times\n",
    "df_3time = df[df['customer_email'].isin(counts.index[counts == 3])]\n",
    "df_3time #18486 rows × 4 columns\n",
    "\n",
    "#revenue of each year\n",
    "rev3_17 = df_3time.loc[df_3time['year'] == 2017, 'net_revenue'].sum()\n",
    "rev3_16 = df_3time.loc[df_3time['year'] == 2016, 'net_revenue'].sum()\n",
    "\n",
    "rev3_17-rev3_16"
   ]
  },
  {
   "cell_type": "code",
   "execution_count": 13,
   "metadata": {},
   "outputs": [
    {
     "data": {
      "text/plain": [
       "5686551.440000016"
      ]
     },
     "execution_count": 13,
     "metadata": {},
     "output_type": "execute_result"
    }
   ],
   "source": [
    "#revenue lost from attrition\n",
    "rev17 = df.loc[df['year'] == 2017, 'net_revenue'].sum()\n",
    "rev16 = df.loc[df['year'] == 2016, 'net_revenue'].sum()\n",
    "rev17 - rev16"
   ]
  },
  {
   "cell_type": "code",
   "execution_count": 14,
   "metadata": {},
   "outputs": [
    {
     "data": {
      "text/plain": [
       "764387.7300000001"
      ]
     },
     "execution_count": 14,
     "metadata": {},
     "output_type": "execute_result"
    }
   ],
   "source": [
    "#Existing customer revenue current year\n",
    "rev3_17"
   ]
  },
  {
   "cell_type": "code",
   "execution_count": 15,
   "metadata": {},
   "outputs": [
    {
     "data": {
      "text/plain": [
       "772527.8"
      ]
     },
     "execution_count": 15,
     "metadata": {},
     "output_type": "execute_result"
    }
   ],
   "source": [
    "#Existing customer revenue prior year\n",
    "rev3_16"
   ]
  },
  {
   "cell_type": "code",
   "execution_count": 16,
   "metadata": {},
   "outputs": [
    {
     "data": {
      "text/plain": [
       "249987"
      ]
     },
     "execution_count": 16,
     "metadata": {},
     "output_type": "execute_result"
    }
   ],
   "source": [
    "#total customer current year\n",
    "df17 = df[df['year'] == 2017]\n",
    "len(df17)"
   ]
  },
  {
   "cell_type": "code",
   "execution_count": 17,
   "metadata": {},
   "outputs": [
    {
     "data": {
      "text/plain": [
       "204646"
      ]
     },
     "execution_count": 17,
     "metadata": {},
     "output_type": "execute_result"
    }
   ],
   "source": [
    "#total customer previous year\n",
    "df16 = df[df['year'] == 2016]\n",
    "len(df16)"
   ]
  },
  {
   "cell_type": "code",
   "execution_count": 18,
   "metadata": {},
   "outputs": [
    {
     "data": {
      "text/plain": [
       "229028"
      ]
     },
     "execution_count": 18,
     "metadata": {},
     "output_type": "execute_result"
    }
   ],
   "source": [
    "#new customer\n",
    "#only exsit once and 2017 customer\n",
    "dfnew = df1617_once[df1617_once['year'] == 2017]\n",
    "len(dfnew)"
   ]
  },
  {
   "cell_type": "code",
   "execution_count": 20,
   "metadata": {},
   "outputs": [
    {
     "data": {
      "text/plain": [
       "301209"
      ]
     },
     "execution_count": 20,
     "metadata": {},
     "output_type": "execute_result"
    }
   ],
   "source": [
    "#old customer\n",
    "#only exsit once and not 2017 customer\n",
    "\n",
    "#repeating/new customers counts\n",
    "counts = df['customer_email'].value_counts()\n",
    "\n",
    "#only keep customers who exist once\n",
    "df_once = df[df['customer_email'].isin(counts.index[counts == 1])]\n",
    "df_once #412715 rows × 4 columns\n",
    "\n",
    "#not in 2017\n",
    "dfold = df_once[df_once['year'] != 2017]\n",
    "len(dfold)"
   ]
  },
  {
   "cell_type": "code",
   "execution_count": 21,
   "metadata": {},
   "outputs": [
    {
     "data": {
      "image/png": "[encoded data removed]",
      "text/plain": [
       "<Figure size 432x288 with 1 Axes>"
      ]
     },
     "metadata": {},
     "output_type": "display_data"
    }
   ],
   "source": [
    "#plot 1\n",
    "#total revenue of each year\n",
    "tol_rev17 = df.loc[df['year'] == 2017, 'net_revenue'].sum()\n",
    "tol_rev16 = df.loc[df['year'] == 2016, 'net_revenue'].sum()\n",
    "tol_rev15 = df.loc[df['year'] == 2015, 'net_revenue'].sum()\n",
    "# Pie chart\n",
    "labels = '2017 total revenue', '2016 total revenue', '2015 total revenue', \n",
    "sizes = [tol_rev17, tol_rev16, tol_rev15]\n",
    "explode = (0.1, 0, 0)\n",
    "\n",
    "fig1, ax1 = plt.subplots()\n",
    "ax1.pie(sizes, explode=explode, labels=labels, autopct='%1.1f%%',\n",
    "        shadow=True, startangle=90)\n",
    "ax1.axis('equal')  # Equal aspect ratio ensures that pie is drawn as a circle.\n",
    "\n",
    "plt.show()"
   ]
  },
  {
   "cell_type": "markdown",
   "metadata": {},
   "source": [
    "the total revenue of 2017 is the highest, but the total revenue in these three years are quite even"
   ]
  },
  {
   "cell_type": "code",
   "execution_count": 22,
   "metadata": {},
   "outputs": [
    {
     "data": {
      "image/png": "[encoded data removed]",
      "text/plain": [
       "<Figure size 432x288 with 1 Axes>"
      ]
     },
     "metadata": {},
     "output_type": "display_data"
    }
   ],
   "source": [
    "#plot 2\n",
    "\n",
    "#total revenue of existing customers in each year\n",
    "rev3_17 = df_3time.loc[df_3time['year'] == 2017, 'net_revenue'].sum()\n",
    "rev3_16 = df_3time.loc[df_3time['year'] == 2016, 'net_revenue'].sum()\n",
    "rev3_15 = df_3time.loc[df_3time['year'] == 2015, 'net_revenue'].sum()\n",
    "# Pie chart\n",
    "labels = 'existing customers revenue in 2017', 'existing customers revenue in 2016', 'existing customers revenue in 2015', \n",
    "sizes = [rev3_17, rev3_16, rev3_15]\n",
    "explode = (0, 0, 0.1)\n",
    "\n",
    "fig1, ax1 = plt.subplots()\n",
    "ax1.pie(sizes, explode=explode, labels=labels, autopct='%1.1f%%',\n",
    "        shadow=True, startangle=90)\n",
    "ax1.axis('equal')  # Equal aspect ratio ensures that pie is drawn as a circle.\n",
    "\n",
    "plt.show()"
   ]
  },
  {
   "cell_type": "markdown",
   "metadata": {},
   "source": [
    "Existing customer revenue are very even in these three years, there's no significant increase or decrease, proves the business stability"
   ]
  },
  {
   "cell_type": "code",
   "execution_count": 25,
   "metadata": {},
   "outputs": [
    {
     "data": {
      "text/plain": [
       "59584"
      ]
     },
     "execution_count": 25,
     "metadata": {},
     "output_type": "execute_result"
    }
   ],
   "source": [
    "#plot3\n",
    "dfnew16 = df1615_once[df1615_once['year'] == 2016]\n",
    "len(dfnew16)\n",
    "\n",
    "old17 = 249987-229028\n",
    "old17\n",
    "old16 = 204646-145062\n",
    "old16"
   ]
  },
  {
   "cell_type": "code",
   "execution_count": 26,
   "metadata": {},
   "outputs": [
    {
     "data": {
      "image/png": "[encoded data removed]",
      "text/plain": [
       "<Figure size 720x504 with 1 Axes>"
      ]
     },
     "metadata": {
      "needs_background": "light"
     },
     "output_type": "display_data"
    }
   ],
   "source": [
    "N = 2\n",
    " \n",
    "new = (229028, 145062)\n",
    "old = (20959, 59584)\n",
    "\n",
    "ind = np.arange(N)  \n",
    "width = 0.35 \n",
    " \n",
    "fig = plt.subplots(figsize =(10, 7))\n",
    "p1 = plt.bar(ind, new, width)\n",
    "p2 = plt.bar(ind, old, width,\n",
    "             bottom = new)\n",
    " \n",
    "plt.ylabel('Number of Customer')\n",
    "plt.title('Customers by year')\n",
    "plt.xticks(ind, ('2017', '2016'))\n",
    "plt.yticks(np.arange(0, 81, 10))\n",
    "plt.legend((p1[0], p2[0]), ('new customer', 'old customer'))\n",
    " \n",
    "plt.show()\n"
   ]
  },
  {
   "cell_type": "markdown",
   "metadata": {},
   "source": [
    "customers increased a lot from 2016 to 2017, new customers increased significantly but old customers have also lost a lot"
   ]
  },
  {
   "cell_type": "code",
   "execution_count": 29,
   "metadata": {},
   "outputs": [
    {
     "data": {
      "image/png": "[encoded data removed]",
      "text/plain": [
       "<Figure size 720x360 with 1 Axes>"
      ]
     },
     "metadata": {
      "needs_background": "light"
     },
     "output_type": "display_data"
    }
   ],
   "source": [
    "#plot4\n",
    "  \n",
    "# creating the dataset\n",
    "data = {'2017':249987, '2016':204646, '2015':231294}\n",
    "courses = list(data.keys())\n",
    "values = list(data.values())\n",
    "  \n",
    "fig = plt.figure(figsize = (10, 5))\n",
    " \n",
    "# creating the bar plot\n",
    "plt.bar(courses, values, color ='maroon',\n",
    "        width = 0.4)\n",
    " \n",
    "plt.xlabel(\"Year\")\n",
    "plt.ylabel(\"Number of Customer\")\n",
    "plt.title(\"Number of Customer in each year\")\n",
    "plt.show()"
   ]
  },
  {
   "cell_type": "markdown",
   "metadata": {},
   "source": [
    "Customers lost from 2015 to 2016 but increased significantly from 2016 to 2017. An interesting observation is that although a lot of customers lost in 2016, the toal revenue did not suffer lots of loss and the existing customer were not affected"
   ]
  },
  {
   "cell_type": "code",
   "execution_count": null,
   "metadata": {},
   "outputs": [],
   "source": []
  }
 ],
 "metadata": {
  "kernelspec": {
   "display_name": "Python 3",
   "language": "python",
   "name": "python3"
  },
  "language_info": {
   "codemirror_mode": {
    "name": "ipython",
    "version": 3
   },
   "file_extension": ".py",
   "mimetype": "text/x-python",
   "name": "python",
   "nbconvert_exporter": "python",
   "pygments_lexer": "ipython3",
   "version": "3.8.3"
  }
 },
 "nbformat": 4,
 "nbformat_minor": 4
}
